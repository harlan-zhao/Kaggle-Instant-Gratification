{
 "cells": [
  {
   "cell_type": "code",
   "execution_count": 1,
   "metadata": {
    "_cell_guid": "79c7e3d0-c299-4dcb-8224-4455121ee9b0",
    "_uuid": "d629ff2d2480ee46fbb7e2d37f6b5fab8052498a"
   },
   "outputs": [],
   "source": [
    "import numpy as np\n",
    "import pandas as pd\n",
    "from sklearn.model_selection import StratifiedKFold\n",
    "from sklearn.feature_selection import VarianceThreshold\n",
    "from sklearn.discriminant_analysis import QuadraticDiscriminantAnalysis\n",
    "from sklearn.metrics import roc_auc_score\n",
    "from sklearn.covariance import GraphicalLasso\n",
    "from sklearn.mixture import GaussianMixture\n",
    "from sklearn.svm import SVC"
   ]
  },
  {
   "cell_type": "code",
   "execution_count": 2,
   "metadata": {},
   "outputs": [],
   "source": [
    "train = pd.read_csv(\"G:/DS/instant-gratification/train.csv\")\n",
    "test = pd.read_csv(\"G:/DS/instant-gratification/test.csv\")"
   ]
  },
  {
   "cell_type": "code",
   "execution_count": 3,
   "metadata": {},
   "outputs": [],
   "source": [
    "def get_mean_cov(x,y):\n",
    "    model = GraphicalLasso()\n",
    "    ones = (y==1).astype(bool)\n",
    "    x2 = x[ones]\n",
    "    model.fit(x2)\n",
    "    p1 = model.precision_\n",
    "    m1 = model.location_\n",
    "    \n",
    "    onesb = (y==0).astype(bool)\n",
    "    x2b = x[onesb]\n",
    "    model.fit(x2b)\n",
    "    p2 = model.precision_\n",
    "    m2 = model.location_\n",
    "    \n",
    "    ms = np.stack([m1,m2])\n",
    "    ps = np.stack([p1,p2])\n",
    "    return ms,ps"
   ]
  },
  {
   "cell_type": "code",
   "execution_count": 4,
   "metadata": {},
   "outputs": [
    {
     "name": "stdout",
     "output_type": "stream",
     "text": [
      "QDA scores CV = 0.96569\n"
     ]
    }
   ],
   "source": [
    "cols = [c for c in train.columns if c not in [\"id\",\"target\",\"wheezy-copper-turtle-magic\"]]\n",
    "trains = np.zeros(len(train))\n",
    "preds = np.zeros(len(test))\n",
    "trains1 = np.zeros(len(train))\n",
    "preds1 = np.zeros(len(test))\n",
    "trains2 = np.zeros(len(train))\n",
    "preds2 = np.zeros(len(test))\n",
    "for i in range(512):\n",
    "    train1 = train[train[\"wheezy-copper-turtle-magic\"]==i]\n",
    "    test1 = test[test[\"wheezy-copper-turtle-magic\"]==i]\n",
    "    train1_index = train1.index\n",
    "    test1_index = test1.index\n",
    "    train1.reset_index(drop=True,inplace=True)\n",
    "    \n",
    "    features = VarianceThreshold(threshold=2.5)\n",
    "    features.fit(train1[cols])\n",
    "    train2 = features.transform(train1[cols])\n",
    "    test2 = features.transform(test1[cols])\n",
    "    \n",
    "    # K-Fold\n",
    "    val = StratifiedKFold(n_splits= 15, random_state=42, shuffle=True)\n",
    "    for train_index, test_index in val.split(train2,train1[\"target\"]):\n",
    "        qda = QuadraticDiscriminantAnalysis(reg_param=0.45)\n",
    "        qda.fit(train2[train_index,:],train1.loc[train_index][\"target\"])\n",
    "        trains[train1_index[test_index]] = qda.predict_proba(train2[test_index,:])[:,1]\n",
    "        preds[test1_index] += qda.predict_proba(test2)[:,1] / val.n_splits\n",
    "        \n",
    "auc = roc_auc_score(train['target'],trains)\n",
    "print('QDA scores CV =',round(auc,5))"
   ]
  },
  {
   "cell_type": "code",
   "execution_count": 5,
   "metadata": {},
   "outputs": [
    {
     "name": "stdout",
     "output_type": "stream",
     "text": [
      "QDA scores CV = 0.9704\n"
     ]
    }
   ],
   "source": [
    "test[\"target\"] = preds\n",
    "trains = np.zeros(len(train))\n",
    "preds = np.zeros(len(test))\n",
    "for i in range(512):\n",
    "    train1 = train[train[\"wheezy-copper-turtle-magic\"] == i]\n",
    "    train2 = train1.copy()\n",
    "    train1_index = train1.index\n",
    "    test1 = test[test[\"wheezy-copper-turtle-magic\"] == i]\n",
    "    \n",
    "    test1_1 = test1[(test1[\"target\"]<=0.01)|(test1[\"target\"]>=0.99)].copy()\n",
    "    test1_1.loc[test1_1[\"target\"] >= 0.5,\"target\"] = 1\n",
    "    test1_1.loc[test1_1[\"target\"] < 0.5,\"target\"] = 0\n",
    "    train2 = pd.concat([train2,test1_1])\n",
    "    train2.reset_index(drop=True,inplace=True)\n",
    "    \n",
    "    features = VarianceThreshold(threshold=2.5).fit(train2[cols]) \n",
    "    train3 = features.transform(train2[cols])\n",
    "    train3_1 = features.transform(train1[cols])\n",
    "    test3 = features.transform(test1[cols])\n",
    "    \n",
    "    val = StratifiedKFold(n_splits= 14, random_state=41, shuffle=True)\n",
    "    for train_index, test_index in val.split(train3,train2[\"target\"]):\n",
    "        # QDA \n",
    "        test_index1 = test_index[test_index < len(train3_1)]\n",
    "        qda = QuadraticDiscriminantAnalysis(reg_param=0.1)\n",
    "        qda.fit(train3[train_index,:],train2.loc[train_index][\"target\"])\n",
    "        trains[train1_index[test_index1]] = qda.predict_proba(train3_1[test_index1,:])[:,1]\n",
    "        preds[test1.index] += qda.predict_proba(test3)[:,1] / val.n_splits\n",
    "        \n",
    "auc = roc_auc_score(train['target'],trains)\n",
    "print('QDA scores CV =',round(auc,5))\n"
   ]
  },
  {
   "cell_type": "code",
   "execution_count": 6,
   "metadata": {
    "_kg_hide-output": false
   },
   "outputs": [
    {
     "name": "stderr",
     "output_type": "stream",
     "text": [
      "C:\\Users\\Administrator\\Anaconda3\\lib\\site-packages\\sklearn\\covariance\\graph_lasso_.py:265: ConvergenceWarning: graphical_lasso: did not converge after 100 iteration: dual gap: 1.573e-04\n",
      "  % (max_iter, d_gap), ConvergenceWarning)\n",
      "C:\\Users\\Administrator\\Anaconda3\\lib\\site-packages\\sklearn\\covariance\\graph_lasso_.py:265: ConvergenceWarning: graphical_lasso: did not converge after 100 iteration: dual gap: 1.306e-04\n",
      "  % (max_iter, d_gap), ConvergenceWarning)\n",
      "C:\\Users\\Administrator\\Anaconda3\\lib\\site-packages\\sklearn\\covariance\\graph_lasso_.py:265: ConvergenceWarning: graphical_lasso: did not converge after 100 iteration: dual gap: 1.395e-04\n",
      "  % (max_iter, d_gap), ConvergenceWarning)\n",
      "C:\\Users\\Administrator\\Anaconda3\\lib\\site-packages\\sklearn\\covariance\\graph_lasso_.py:265: ConvergenceWarning: graphical_lasso: did not converge after 100 iteration: dual gap: 1.712e-04\n",
      "  % (max_iter, d_gap), ConvergenceWarning)\n",
      "C:\\Users\\Administrator\\Anaconda3\\lib\\site-packages\\sklearn\\covariance\\graph_lasso_.py:265: ConvergenceWarning: graphical_lasso: did not converge after 100 iteration: dual gap: 1.557e-04\n",
      "  % (max_iter, d_gap), ConvergenceWarning)\n",
      "C:\\Users\\Administrator\\Anaconda3\\lib\\site-packages\\sklearn\\covariance\\graph_lasso_.py:265: ConvergenceWarning: graphical_lasso: did not converge after 100 iteration: dual gap: 1.123e-04\n",
      "  % (max_iter, d_gap), ConvergenceWarning)\n",
      "C:\\Users\\Administrator\\Anaconda3\\lib\\site-packages\\sklearn\\covariance\\graph_lasso_.py:265: ConvergenceWarning: graphical_lasso: did not converge after 100 iteration: dual gap: -1.969e-04\n",
      "  % (max_iter, d_gap), ConvergenceWarning)\n",
      "C:\\Users\\Administrator\\Anaconda3\\lib\\site-packages\\sklearn\\covariance\\graph_lasso_.py:265: ConvergenceWarning: graphical_lasso: did not converge after 100 iteration: dual gap: -2.289e-04\n",
      "  % (max_iter, d_gap), ConvergenceWarning)\n",
      "C:\\Users\\Administrator\\Anaconda3\\lib\\site-packages\\sklearn\\covariance\\graph_lasso_.py:265: ConvergenceWarning: graphical_lasso: did not converge after 100 iteration: dual gap: 1.239e-04\n",
      "  % (max_iter, d_gap), ConvergenceWarning)\n",
      "C:\\Users\\Administrator\\Anaconda3\\lib\\site-packages\\sklearn\\covariance\\graph_lasso_.py:265: ConvergenceWarning: graphical_lasso: did not converge after 100 iteration: dual gap: 2.062e-04\n",
      "  % (max_iter, d_gap), ConvergenceWarning)\n",
      "C:\\Users\\Administrator\\Anaconda3\\lib\\site-packages\\sklearn\\covariance\\graph_lasso_.py:265: ConvergenceWarning: graphical_lasso: did not converge after 100 iteration: dual gap: 1.328e-04\n",
      "  % (max_iter, d_gap), ConvergenceWarning)\n",
      "C:\\Users\\Administrator\\Anaconda3\\lib\\site-packages\\sklearn\\covariance\\graph_lasso_.py:265: ConvergenceWarning: graphical_lasso: did not converge after 100 iteration: dual gap: 1.734e-04\n",
      "  % (max_iter, d_gap), ConvergenceWarning)\n"
     ]
    },
    {
     "name": "stdout",
     "output_type": "stream",
     "text": [
      "GMM scores CV = 0.96891\n"
     ]
    }
   ],
   "source": [
    "oof = np.zeros(len(train))\n",
    "preds2 = np.zeros(len(test))\n",
    "for i in range(512):\n",
    "    train2 = train[train['wheezy-copper-turtle-magic']==i]\n",
    "    test2 = test[test['wheezy-copper-turtle-magic']==i]\n",
    "    idx1 = train2.index; idx2 = test2.index\n",
    "    train2.reset_index(drop=True,inplace=True)\n",
    "    \n",
    "    sel = VarianceThreshold(threshold=1.5).fit(train2[cols])\n",
    "    train3 = sel.transform(train2[cols])\n",
    "    test3 = sel.transform(test2[cols])\n",
    "    \n",
    "    skf = StratifiedKFold(n_splits= 14, random_state=41, shuffle=True)\n",
    "    for train_index, test_index in val.split(train3,train2[\"target\"]):\n",
    "        # GMM\n",
    "        ms, ps = get_mean_cov(train3[train_index,:],train2.loc[train_index]['target'].values)\n",
    "        \n",
    "        gm = GaussianMixture(n_components=2, init_params='random', covariance_type='full', tol=0.001,reg_covar=0.001, max_iter=100, n_init=1,means_init=ms, precisions_init=ps)\n",
    "        gm.fit(np.concatenate([train3[train_index,:],test3],axis = 0))\n",
    "        oof[idx1[test_index]] = gm.predict_proba(train3[test_index,:])[:,0]\n",
    "        preds2[idx2] += gm.predict_proba(test3)[:,0] / skf.n_splits\n",
    "        \n",
    "auc2 = roc_auc_score(train['target'],oof)\n",
    "print('GMM scores CV =',round(auc2,5))"
   ]
  },
  {
   "cell_type": "code",
   "execution_count": 10,
   "metadata": {},
   "outputs": [
    {
     "name": "stdout",
     "output_type": "stream",
     "text": [
      "Ensenmble scores CV = 0.96862\n"
     ]
    }
   ],
   "source": [
    "final = 1/2*trains + 1/2*oof1\n",
    "auc4 = roc_auc_score(train['target'],final)\n",
    "print('Ensenmble scores CV =',round(auc4,5))"
   ]
  }
 ],
 "metadata": {
  "kernelspec": {
   "display_name": "Python 3",
   "language": "python",
   "name": "python3"
  },
  "language_info": {
   "codemirror_mode": {
    "name": "ipython",
    "version": 3
   },
   "file_extension": ".py",
   "mimetype": "text/x-python",
   "name": "python",
   "nbconvert_exporter": "python",
   "pygments_lexer": "ipython3",
   "version": "3.7.3"
  }
 },
 "nbformat": 4,
 "nbformat_minor": 1
}
